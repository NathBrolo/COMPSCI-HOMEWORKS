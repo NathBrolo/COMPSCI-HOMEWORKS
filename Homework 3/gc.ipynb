{
 "cells": [
  {
   "cell_type": "code",
   "execution_count": 2,
   "metadata": {},
   "outputs": [
    {
     "name": "stdout",
     "output_type": "stream",
     "text": [
      "Rosalind_9145\n",
      "52.606061\n"
     ]
    }
   ],
   "source": [
    "with open('C:\\\\Users\\\\natha\\\\Downloads\\\\rosalind_gc (1).txt','r') as file:\n",
    "    content = file.read().splitlines()\n",
    "final, lst = [], []\n",
    "for i in range(len(content)):\n",
    "    if content[i][0] == '>':\n",
    "        final.append(lst)\n",
    "        lst = [content[i][1:]]\n",
    "    else:\n",
    "        lst.append(content[i])\n",
    "final.append(lst)\n",
    "final.pop(0)\n",
    "Final = []\n",
    "for i in range(len(final)):\n",
    "    DNA = ''\n",
    "    for j in range(1,len(final[i])):\n",
    "        DNA += final[i][j]\n",
    "    Final.append([final[i][0],DNA])\n",
    "GC_content = []\n",
    "for i in range(len(Final)):\n",
    "    record = \"%.6f\" % round((Final[i][1].count('C') + Final[i][1].count('G')) / len(Final[i][1])*100, 6)\n",
    "    GC_content.append([record, Final[i][0]])\n",
    "\n",
    "Max = max(GC_content)\n",
    "\n",
    "print(Max[1])\n",
    "print(Max[0])"
   ]
  }
 ],
 "metadata": {
  "kernelspec": {
   "display_name": "Python 3.8.3 ('base')",
   "language": "python",
   "name": "python3"
  },
  "language_info": {
   "codemirror_mode": {
    "name": "ipython",
    "version": 3
   },
   "file_extension": ".py",
   "mimetype": "text/x-python",
   "name": "python",
   "nbconvert_exporter": "python",
   "pygments_lexer": "ipython3",
   "version": "3.8.3"
  },
  "orig_nbformat": 4,
  "vscode": {
   "interpreter": {
    "hash": "f6716dbedf63cc3cc3454830c6e7cfdb12d0aa2e0dca19a8f02decd88c98998a"
   }
  }
 },
 "nbformat": 4,
 "nbformat_minor": 2
}
