{
 "cells": [
  {
   "cell_type": "code",
   "execution_count": 4,
   "metadata": {},
   "outputs": [
    {
     "name": "stdout",
     "output_type": "stream",
     "text": [
      "0.6970862470862471\n"
     ]
    }
   ],
   "source": [
    "\n",
    "k = 22\n",
    "m = 15\n",
    "n = 29\n",
    "p = k + m + n\n",
    " \n",
    "num = 4 * k ** 2 - 4 * k + 8 * k * m + 8 * k * n + 3 * m ** 2 -3 * m + 4 * m *n\n",
    "den = 4 * p * (p-1)\n",
    "\n",
    "print(num/den)"
   ]
  }
 ],
 "metadata": {
  "kernelspec": {
   "display_name": "Python 3.8.3 ('base')",
   "language": "python",
   "name": "python3"
  },
  "language_info": {
   "codemirror_mode": {
    "name": "ipython",
    "version": 3
   },
   "file_extension": ".py",
   "mimetype": "text/x-python",
   "name": "python",
   "nbconvert_exporter": "python",
   "pygments_lexer": "ipython3",
   "version": "3.8.3"
  },
  "orig_nbformat": 4,
  "vscode": {
   "interpreter": {
    "hash": "f6716dbedf63cc3cc3454830c6e7cfdb12d0aa2e0dca19a8f02decd88c98998a"
   }
  }
 },
 "nbformat": 4,
 "nbformat_minor": 2
}
