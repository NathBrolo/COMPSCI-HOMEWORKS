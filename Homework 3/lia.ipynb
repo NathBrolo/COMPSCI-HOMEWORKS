{
 "cells": [
  {
   "cell_type": "code",
   "execution_count": 7,
   "metadata": {},
   "outputs": [
    {
     "name": "stdout",
     "output_type": "stream",
     "text": [
      "0.4333521110224611\n"
     ]
    }
   ],
   "source": [
    "import math                                                                    \n",
    "k = 6                                                                     \n",
    "N = 17                                                                       \n",
    "P = 2**k                                                                       \n",
    "probability = 0                                                                \n",
    "for i in range(N, P + 1):                                                      \n",
    "    prob = (math.factorial(P) /                                                \n",
    "            (math.factorial(i) * math.factorial(P - i))) * (0.25**i) * (0.75**(\n",
    "                P - i))                                                        \n",
    "    probability += prob                                                        \n",
    "print(probability)    \n"
   ]
  }
 ],
 "metadata": {
  "kernelspec": {
   "display_name": "Python 3.8.3 ('base')",
   "language": "python",
   "name": "python3"
  },
  "language_info": {
   "codemirror_mode": {
    "name": "ipython",
    "version": 3
   },
   "file_extension": ".py",
   "mimetype": "text/x-python",
   "name": "python",
   "nbconvert_exporter": "python",
   "pygments_lexer": "ipython3",
   "version": "3.8.3"
  },
  "orig_nbformat": 4,
  "vscode": {
   "interpreter": {
    "hash": "f6716dbedf63cc3cc3454830c6e7cfdb12d0aa2e0dca19a8f02decd88c98998a"
   }
  }
 },
 "nbformat": 4,
 "nbformat_minor": 2
}
