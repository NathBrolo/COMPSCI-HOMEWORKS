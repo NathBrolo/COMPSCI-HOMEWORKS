{
 "cells": [
  {
   "cell_type": "code",
   "execution_count": 1,
   "metadata": {},
   "outputs": [
    {
     "name": "stdout",
     "output_type": "stream",
     "text": [
      "152724.0\n"
     ]
    }
   ],
   "source": [
    "couple = [18037, 16503, 18462, 19152, 17992, 17862]\n",
    "ng = []\n",
    "for i in range(len(couple)):\n",
    "    if i < 3:\n",
    "       ng.append(couple[i] * 2)\n",
    "    elif i == 3:\n",
    "        ng.append(couple[i] * 3 / 4 * 2)\n",
    "    elif i == 4:\n",
    "        ng.append(couple[i] / 2 * 2)\n",
    "    else :\n",
    "        ng.append(0)\n",
    "\n",
    "print(sum(ng))"
   ]
  }
 ],
 "metadata": {
  "kernelspec": {
   "display_name": "Python 3.8.3 ('base')",
   "language": "python",
   "name": "python3"
  },
  "language_info": {
   "codemirror_mode": {
    "name": "ipython",
    "version": 3
   },
   "file_extension": ".py",
   "mimetype": "text/x-python",
   "name": "python",
   "nbconvert_exporter": "python",
   "pygments_lexer": "ipython3",
   "version": "3.8.3"
  },
  "orig_nbformat": 4,
  "vscode": {
   "interpreter": {
    "hash": "f6716dbedf63cc3cc3454830c6e7cfdb12d0aa2e0dca19a8f02decd88c98998a"
   }
  }
 },
 "nbformat": 4,
 "nbformat_minor": 2
}
