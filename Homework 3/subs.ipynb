{
 "cells": [
  {
   "cell_type": "code",
   "execution_count": 5,
   "metadata": {},
   "outputs": [
    {
     "name": "stdout",
     "output_type": "stream",
     "text": [
      "18\n",
      "47\n",
      "82\n",
      "89\n",
      "129\n",
      "153\n",
      "160\n",
      "255\n",
      "268\n",
      "343\n",
      "369\n",
      "394\n",
      "408\n",
      "424\n",
      "431\n",
      "454\n",
      "461\n",
      "493\n",
      "513\n",
      "579\n",
      "602\n",
      "609\n",
      "626\n",
      "633\n",
      "640\n",
      "690\n",
      "697\n",
      "712\n",
      "719\n",
      "736\n",
      "779\n"
     ]
    }
   ],
   "source": [
    "s= \"GGCTTAGCTAGAATCGTCTAGAATCTAGAATTCCGGGGCTAGAATGCTAGAATCTAGAATGATATCGTGACTAGAATTATCCTAGAATCTAGAATCTAGAATAAGCTAGAATCGCATCTAGAATACACCTAGAATCTAGAATTCTAGAATCGCTAGAATCTAGAATCTAGAATTGGCTAGAATAGCCACTCTAGAATGGCTAGAATTAGTTACCTAGAATACTAGAATGCTAACTAGAATGCTACCTAGAATACCTAGAATCTACACCTAGAATCTAGAATCCTAGAATGGATAAACTAGAATACTAGAATAATCGCTAGAATTTCCTAGAATATAAACGCCCTAGAATCTAGAATAAGCTAGAATGCCTAGAATCTGAGCTAGAATATGGGCCTAGAATCTACGGGCTAGAATCTAGAATTTCTAGAATCTAGAATCTAGAATGCCTGGAGGCTAGAATCTAGAATCTAGAATGGCTAGAATTCTAGAATCCTAGAATCTAGAATCGAATTCTAGAATCTAGAATGAGGATGTATCCCCCAGAGCATCGAGCGTGGCCTAGAATGACTAGAATGCCACTAGAATCTAGAATACTAGAATACTAGAATCTAGAATCTAGAATAACCTAGAATCTAGAATCTAGAATCTAGAATAAGGAGCCCTAGAATGAAATCTAGCTAGAATGTCACCTAGAATCTAGAATCTAGAATGCTAGAATCTAGAATCTAGAATACGCTAGAATCTCTAGAATACTAGAATTCTAGAATCCTAGAATGGTCTAGAATCTAGAATAATCTCTAGAAT\"\n",
    "t = \"CTAGAATCT\"\n",
    "for position in range(len(s)):\n",
    "    if s[position:].startswith(t):\n",
    "        print(position+1) \n"
   ]
  }
 ],
 "metadata": {
  "kernelspec": {
   "display_name": "Python 3.8.3 ('base')",
   "language": "python",
   "name": "python3"
  },
  "language_info": {
   "codemirror_mode": {
    "name": "ipython",
    "version": 3
   },
   "file_extension": ".py",
   "mimetype": "text/x-python",
   "name": "python",
   "nbconvert_exporter": "python",
   "pygments_lexer": "ipython3",
   "version": "3.8.3"
  },
  "orig_nbformat": 4,
  "vscode": {
   "interpreter": {
    "hash": "f6716dbedf63cc3cc3454830c6e7cfdb12d0aa2e0dca19a8f02decd88c98998a"
   }
  }
 },
 "nbformat": 4,
 "nbformat_minor": 2
}
