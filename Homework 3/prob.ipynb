{
 "cells": [
  {
   "cell_type": "code",
   "execution_count": 5,
   "metadata": {},
   "outputs": [
    {
     "name": "stdout",
     "output_type": "stream",
     "text": [
      "-69.89291411249283 -64.76871838874447 -58.32983729164633 -55.25104227415202 -53.90276328651427 -52.66942483649516 -51.90315174941767 -51.77783155416414 -51.86889002592152 -52.68643547586648 -54.18784727316221 -56.438651467199286 -61.86353625941715 -65.64696648138657 -71.53567409596032\n"
     ]
    }
   ],
   "source": [
    "import math\n",
    "\n",
    "dataset = \"TCAGTTCCCGCTTTGTAGTAGCTGGTTGCGGTGAGCAGTTGCACTAAAAAAAGGTGCGTTGAGTTCGTTCGCATGTTGGGCCACTT\"\n",
    "number_line = \"0.106 0.146 0.228 0.294 0.336 0.392 0.459 0.497 0.535 0.609 0.674 0.735 0.823 0.862 0.904\"\n",
    "gcc = [float(i) for i in number_line.split()]\n",
    "\n",
    "\n",
    "outputs = []\n",
    "prob = 0\n",
    "for a_gcc in gcc:\n",
    "    prob = 0\n",
    "    chances = {\n",
    "        'A' : (1-a_gcc)/2,\n",
    "        'C' : a_gcc/2,\n",
    "        'G' : a_gcc/2,\n",
    "        'T' : (1-a_gcc)/2\n",
    "    }\n",
    "    for c in dataset:\n",
    "        prob = prob + math.log10(chances[c])\n",
    "    outputs.append(prob)\n",
    "\n",
    "print(\" \".join([str(i) for i in outputs]))\n"
   ]
  }
 ],
 "metadata": {
  "kernelspec": {
   "display_name": "Python 3.8.3 ('base')",
   "language": "python",
   "name": "python3"
  },
  "language_info": {
   "codemirror_mode": {
    "name": "ipython",
    "version": 3
   },
   "file_extension": ".py",
   "mimetype": "text/x-python",
   "name": "python",
   "nbconvert_exporter": "python",
   "pygments_lexer": "ipython3",
   "version": "3.8.3"
  },
  "orig_nbformat": 4,
  "vscode": {
   "interpreter": {
    "hash": "f6716dbedf63cc3cc3454830c6e7cfdb12d0aa2e0dca19a8f02decd88c98998a"
   }
  }
 },
 "nbformat": 4,
 "nbformat_minor": 2
}
